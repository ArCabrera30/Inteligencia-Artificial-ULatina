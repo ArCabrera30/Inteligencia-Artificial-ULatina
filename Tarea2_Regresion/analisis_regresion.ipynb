{
  "cells": [
    {
      "cell_type": "markdown",
      "metadata": {},
      "source": [
        "# Análisis de Datos — Regresión\n",
        "\n**Objetivo:** análisis exploratorio y modelo de regresión.\n\n**Dataset:** `fetch_california_housing` (si no está disponible, usar `make_regression`).\n"
      ]
    },
    {
      "cell_type": "code",
      "metadata": {},
      "execution_count": null,
      "outputs": [],
      "source": "import pandas as pd\nimport numpy as np\nfrom sklearn.datasets import fetch_california_housing, make_regression\nfrom sklearn.model_selection import train_test_split\nfrom sklearn.preprocessing import StandardScaler\nfrom sklearn.metrics import mean_squared_error, r2_score\nfrom sklearn.linear_model import LinearRegression\nimport matplotlib.pyplot as plt\n\n# Intentar California Housing; si falla, generar sintético\ntry:\n    data = fetch_california_housing(as_frame=True)\n    df = pd.concat([data.data, data.target.rename('target')], axis=1)\nexcept Exception as e:\n    X, y = make_regression(n_samples=2000, n_features=8, noise=15, random_state=42)\n    cols = [f'x{i}' for i in range(X.shape[1])]\n    df = pd.DataFrame(X, columns=cols)\n    df['target'] = y\n\ndf.head()\n"
    },
    {
      "cell_type": "code",
      "metadata": {},
      "execution_count": null,
      "outputs": [],
      "source": "# Split\nX = df.drop(columns=['target'])\ny = df['target']\nX_train, X_test, y_train, y_test = train_test_split(X, y, test_size=0.2, random_state=42)\n# Escalado + modelo\nscaler = StandardScaler()\nX_train_s = scaler.fit_transform(X_train)\nX_test_s = scaler.transform(X_test)\n\nreg = LinearRegression()\nreg.fit(X_train_s, y_train)\ny_pred = reg.predict(X_test_s)\n\nmse = mean_squared_error(y_test, y_pred)\nr2 = r2_score(y_test, y_pred)\nprint('MSE:', mse, 'R2:', r2)\n"
    },
    {
      "cell_type": "code",
      "metadata": {},
      "execution_count": null,
      "outputs": [],
      "source": "# Diagrama de dispersión real vs predicho\nplt.figure()\nplt.scatter(y_test, y_pred, alpha=0.5)\nplt.xlabel('Real'); plt.ylabel('Predicho'); plt.title('Real vs Predicho')\nplt.show()\n"
    },
    {
      "cell_type": "code",
      "metadata": {},
      "execution_count": null,
      "outputs": [],
      "source": "print('Conclusión: analiza el R2, posibles variables relevantes y mejoras (regularización, no-linealidad, etc.).')"
    }
  ],
  "metadata": {
    "kernelspec": {
      "display_name": "Python 3",
      "language": "python",
      "name": "python3"
    },
    "language_info": {
      "name": "python",
      "version": "3.x"
    }
  },
  "nbformat": 4,
  "nbformat_minor": 5
}