{
  "cells": [
    {
      "cell_type": "markdown",
      "metadata": {},
      "source": [
        "# Modelado de Datos — Clasificación Binaria (Pipeline + CV)\n",
        "\n**Objetivo:** construir un *pipeline* con validación cruzada para clasificación binaria.\n\n**Dataset:** `load_breast_cancer`.\n"
      ]
    },
    {
      "cell_type": "code",
      "metadata": {},
      "execution_count": null,
      "outputs": [],
      "source": "from sklearn.datasets import load_breast_cancer\nfrom sklearn.model_selection import StratifiedKFold, cross_val_score\nfrom sklearn.pipeline import Pipeline\nfrom sklearn.preprocessing import StandardScaler\nfrom sklearn.linear_model import LogisticRegression\nimport numpy as np\n\ndata = load_breast_cancer(as_frame=True)\nX = data.data\ny = data.target\n\npipe = Pipeline([('scaler', StandardScaler()), ('clf', LogisticRegression(max_iter=1000))])\n\ncv = StratifiedKFold(n_splits=5, shuffle=True, random_state=42)\nscores = cross_val_score(pipe, X, y, cv=cv, scoring='accuracy')\nprint('Accuracy CV:', scores)\nprint('Media:', np.mean(scores), '±', np.std(scores))\n"
    }
  ],
  "metadata": {
    "kernelspec": {
      "display_name": "Python 3",
      "language": "python",
      "name": "python3"
    },
    "language_info": {
      "name": "python",
      "version": "3.x"
    }
  },
  "nbformat": 4,
  "nbformat_minor": 5
}