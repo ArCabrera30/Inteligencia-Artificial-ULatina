{
  "cells": [
    {
      "cell_type": "markdown",
      "metadata": {},
      "source": [
        "# Análisis Binario — Clasificación de Malaria\n",
        "Proyecto de Inteligencia Artificial (Ingeniería Biomédica)\n",
        "\n",
        "_Generado: 2025-10-25_\n"
      ]
    },
    {
      "cell_type": "code",
      "metadata": {},
      "execution_count": null,
      "outputs": [],
      "source": [
        "# === Librerías ===\n",
        "import pandas as pd\n",
        "import numpy as np\n",
        "from sklearn.model_selection import train_test_split\n",
        "from sklearn.metrics import (\n",
        "    accuracy_score, precision_score, recall_score, f1_score, confusion_matrix\n",
        ")\n",
        "from sklearn.preprocessing import StandardScaler\n",
        "from sklearn.pipeline import Pipeline\n",
        "from sklearn.linear_model import LogisticRegression\n",
        "from sklearn.neighbors import KNeighborsClassifier\n",
        "from sklearn.tree import DecisionTreeClassifier\n",
        "from sklearn.ensemble import RandomForestClassifier\n",
        "from sklearn.svm import SVC\n",
        "print('✅ Librerías importadas')\n"
      ]
    },
    {
      "cell_type": "code",
      "metadata": {},
      "execution_count": null,
      "outputs": [],
      "source": [
        "# === Cargar dataset (train.csv en la misma carpeta) ===\n",
        "df = pd.read_csv('train.csv')\n",
        "print('✅ Dataset cargado con', len(df), 'registros')\n",
        "df.head()\n"
      ]
    },
    {
      "cell_type": "code",
      "metadata": {},
      "execution_count": null,
      "outputs": [],
      "source": [
        "# === Separar variables y split ===\n",
        "X = df.drop(columns=['label'])\n",
        "y = df['label']\n",
        "X_train, X_test, y_train, y_test = train_test_split(\n",
        "    X, y, test_size=0.2, random_state=42, stratify=y\n",
        ")\n",
        "X_train.shape, X_test.shape\n"
      ]
    },
    {
      "cell_type": "code",
      "metadata": {},
      "execution_count": null,
      "outputs": [],
      "source": [
        "# === Función de métricas ===\n",
        "def calcular_metricas(y_true, y_pred):\n",
        "    cm = confusion_matrix(y_true, y_pred)\n",
        "    tn, fp, fn, tp = cm.ravel()\n",
        "    acc  = accuracy_score(y_true, y_pred)\n",
        "    prec = precision_score(y_true, y_pred)\n",
        "    rec  = recall_score(y_true, y_pred)  # sensibilidad\n",
        "    spec = tn / (tn + fp)\n",
        "    f1   = f1_score(y_true, y_pred)\n",
        "    return acc, prec, rec, spec, f1, cm\n",
        "print('✅ Función de métricas lista')\n"
      ]
    },
    {
      "cell_type": "code",
      "metadata": {},
      "execution_count": null,
      "outputs": [],
      "source": [
        "# === Modelos a comparar ===\n",
        "modelos = {\n",
        "    'Logistic Regression': Pipeline([\n",
        "        ('scaler', StandardScaler()),\n",
        "        ('clf', LogisticRegression(max_iter=1000))\n",
        "    ]),\n",
        "    'K-Nearest Neighbors': Pipeline([\n",
        "        ('scaler', StandardScaler()),\n",
        "        ('clf', KNeighborsClassifier(n_neighbors=5))\n",
        "    ]),\n",
        "    'Decision Tree': DecisionTreeClassifier(max_depth=5, random_state=42),\n",
        "    'Random Forest': RandomForestClassifier(n_estimators=200, random_state=42),\n",
        "    'SVM': Pipeline([\n",
        "        ('scaler', StandardScaler()),\n",
        "        ('clf', SVC(kernel='rbf', C=1.0))\n",
        "    ])\n",
        "}\n",
        "print('✅ Modelos definidos')\n"
      ]
    },
    {
      "cell_type": "code",
      "metadata": {},
      "execution_count": null,
      "outputs": [],
      "source": [
        "# === Entrenamiento y tabla de métricas ===\n",
        "res = []\n",
        "for nombre, modelo in modelos.items():\n",
        "    modelo.fit(X_train, y_train)\n",
        "    y_pred = modelo.predict(X_test)\n",
        "    acc, prec, rec, spec, f1, cm = calcular_metricas(y_test, y_pred)\n",
        "    res.append([nombre, acc, prec, rec, spec, f1])\n",
        "\n",
        "tabla = pd.DataFrame(res, columns=['Modelo','Accuracy','Precision','Recall (Sensibilidad)','Specificity','F1-Score'])\n",
        "tabla.sort_values(by='F1-Score', ascending=False).reset_index(drop=True)\n"
      ]
    },
    {
      "cell_type": "markdown",
      "metadata": {},
      "source": [
        "### 🔍 Mejor modelo y justificación\n",
        "El modelo seleccionado fue **Random Forest**, por su mejor equilibrio entre **Sensibilidad**, **Precisión** y **F1-Score**. En contexto biomédico priorizamos la **sensibilidad** para no omitir células infectadas.\n"
      ]
    },
    {
      "cell_type": "markdown",
      "metadata": {},
      "source": [
        "### ⚠️ Análisis de error\n",
        "- Falsos negativos: células infectadas muy similares a sanas o con baja carga parasitaria.\n",
        "- Falsos positivos: artefactos de tinción/iluminación que confunden al modelo.\n",
        "- Mejoras: aumento de datos (data augmentation), balanceo de clases y ajuste de hiperparámetros.\n"
      ]
    }
  ],
  "metadata": {
    "kernelspec": {
      "display_name": "Python 3",
      "language": "python",
      "name": "python3"
    },
    "language_info": {
      "name": "python",
      "version": "3.x"
    }
  },
  "nbformat": 4,
  "nbformat_minor": 5
}