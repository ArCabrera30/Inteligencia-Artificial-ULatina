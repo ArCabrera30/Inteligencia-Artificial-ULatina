{
  "cells": [
    {
      "cell_type": "markdown",
      "metadata": {},
      "source": [
        "# Análisis de Datos — Clasificación Binaria\n",
        "\n**Objetivo:** análisis exploratorio y modelo de clasificación binaria usando `scikit-learn`.\n\n**Dataset:** `load_breast_cancer`.\n\n> Ejecuta las celdas en orden. Completa las conclusiones al final.\n"
      ]
    },
    {
      "cell_type": "code",
      "metadata": {},
      "execution_count": null,
      "outputs": [],
      "source": "# Imports básicos\nimport pandas as pd\nimport numpy as np\nfrom sklearn.datasets import load_breast_cancer\nfrom sklearn.model_selection import train_test_split\nfrom sklearn.preprocessing import StandardScaler\nfrom sklearn.linear_model import LogisticRegression\nfrom sklearn.metrics import accuracy_score, classification_report, confusion_matrix\nimport matplotlib.pyplot as plt\n"
    },
    {
      "cell_type": "code",
      "metadata": {},
      "execution_count": null,
      "outputs": [],
      "source": "# Carga de datos\ndata = load_breast_cancer(as_frame=True)\ndf = data.frame\ndf.head()"
    },
    {
      "cell_type": "code",
      "metadata": {},
      "execution_count": null,
      "outputs": [],
      "source": "# División en train/test\nX = df.drop(columns=['target'])\ny = df['target']\nX_train, X_test, y_train, y_test = train_test_split(X, y, test_size=0.2, random_state=42, stratify=y)\nX_train.shape, X_test.shape"
    },
    {
      "cell_type": "code",
      "metadata": {},
      "execution_count": null,
      "outputs": [],
      "source": "# Escalado y modelo\nscaler = StandardScaler()\nX_train_scaled = scaler.fit_transform(X_train)\nX_test_scaled = scaler.transform(X_test)\n\nmodel = LogisticRegression(max_iter=1000)\nmodel.fit(X_train_scaled, y_train)\n\ny_pred = model.predict(X_test_scaled)\nacc = accuracy_score(y_test, y_pred)\nprint('Accuracy:', acc)"
    },
    {
      "cell_type": "code",
      "metadata": {},
      "execution_count": null,
      "outputs": [],
      "source": "# Reporte y matriz de confusión\nprint(classification_report(y_test, y_pred, target_names=data.target_names))\n\ncm = confusion_matrix(y_test, y_pred)\nfig, ax = plt.subplots()\nim = ax.imshow(cm)\nax.set_title('Matriz de confusión')\nax.set_xlabel('Predicción'); ax.set_ylabel('Real')\nfor (i,j), val in np.ndenumerate(cm):\n    ax.text(j, i, int(val), ha='center', va='center')\nplt.show()"
    },
    {
      "cell_type": "code",
      "metadata": {},
      "execution_count": null,
      "outputs": [],
      "source": "# Conclusiones (edita con tus palabras)\nprint('Conclusión: describe el desempeño del modelo y posibles mejoras.')"
    }
  ],
  "metadata": {
    "kernelspec": {
      "display_name": "Python 3",
      "language": "python",
      "name": "python3"
    },
    "language_info": {
      "name": "python",
      "version": "3.x"
    }
  },
  "nbformat": 4,
  "nbformat_minor": 5
}